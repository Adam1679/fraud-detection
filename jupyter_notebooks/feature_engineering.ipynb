{
 "cells": [
  {
   "cell_type": "code",
   "execution_count": 172,
   "metadata": {},
   "outputs": [],
   "source": [
    "import pandas as pd\n",
    "import numpy as np\n",
    "import lightgbm as lgb\n",
    "import gc\n",
    "import json\n",
    "from sklearn.base import BaseEstimator, TransformerMixin\n",
    "from sklearn.pipeline import FeatureUnion\n",
    "from sklearn.model_selection import KFold\n",
    "from itertools import product\n"
   ]
  },
  {
   "cell_type": "code",
   "execution_count": 173,
   "metadata": {},
   "outputs": [],
   "source": [
    "def reduce_mem_usage(df, verbose=True):\n",
    "    numerics = ['int16', 'int32', 'int64', 'float16', 'float32', 'float64']\n",
    "    start_mem = df.memory_usage().sum() / 1024**2    \n",
    "    for col in df.columns:\n",
    "        col_type = df[col].dtypes\n",
    "        if col_type in numerics:\n",
    "            if str(col_type)[:3] == 'int':\n",
    "                df[col] = pd.to_numeric(df[col], downcast=\"integer\")\n",
    "            else:\n",
    "                df[col] = pd.to_numeric(df[col], downcast=\"float\")\n",
    "\n",
    "                    \n",
    "    end_mem = df.memory_usage().sum() / 1024**2\n",
    "    if verbose: \n",
    "        print('Mem. usage decreased to {:5.2f} Mb ({:.1f}% reduction)'.\n",
    "              format(end_mem, 100 * (start_mem - end_mem) / start_mem))\n",
    "    return df"
   ]
  },
  {
   "cell_type": "code",
   "execution_count": 174,
   "metadata": {},
   "outputs": [
    {
     "name": "stdout",
     "output_type": "stream",
     "text": [
      "Mem. usage decreased to 918.55 Mb (48.3% reduction)\n",
      "Mem. usage decreased to 787.65 Mb (48.2% reduction)\n",
      "Mem. usage decreased to 32.46 Mb (28.0% reduction)\n",
      "Mem. usage decreased to 31.94 Mb (28.0% reduction)\n",
      "Mem. usage decreased to  5.80 Mb (25.0% reduction)\n"
     ]
    },
    {
     "data": {
      "text/plain": [
       "303"
      ]
     },
     "execution_count": 174,
     "metadata": {},
     "output_type": "execute_result"
    }
   ],
   "source": [
    "DIR = \"../ieee-fraud-detection\"\n",
    "train_transaction = reduce_mem_usage(pd.read_csv(f'{DIR}/train_transaction.csv', index_col='TransactionID'))\n",
    "test_transaction = reduce_mem_usage(pd.read_csv(f'{DIR}/test_transaction.csv', index_col='TransactionID'))\n",
    "train_identity = reduce_mem_usage(pd.read_csv(f'{DIR}/train_identity.csv', index_col='TransactionID'))\n",
    "test_identity = reduce_mem_usage(pd.read_csv(f'{DIR}/test_identity.csv', index_col='TransactionID'))\n",
    "sample_submission = reduce_mem_usage(pd.read_csv(f'{DIR}/sample_submission.csv', index_col='TransactionID'))\n",
    "\n",
    "train = train_transaction.merge(train_identity, how='left', left_index=True, right_index=True)\n",
    "test = test_transaction.merge(test_identity, how='left', left_index=True, right_index=True)\n",
    "dataset = pd.concat([train.drop(\"isFraud\", axis=1), test], ignore_index=True, sort=False)\n",
    "del train_transaction, train_identity\n",
    "del test_transaction, test_identity\n",
    "gc.collect()"
   ]
  },
  {
   "cell_type": "markdown",
   "metadata": {},
   "source": [
    "# 1. Email feature engineering"
   ]
  },
  {
   "cell_type": "code",
   "execution_count": 175,
   "metadata": {},
   "outputs": [],
   "source": [
    "class Email_Engineering(BaseEstimator, TransformerMixin):\n",
    "    \"\"\"\n",
    "    对太多的域名进行了降纬分类，处理\n",
    "    \n",
    "    credit to ``https://www.kaggle.com/amirhmi/a-comprehensive-guide-to-get-0-9492``\n",
    "    \"\"\"\n",
    "    def __init__(self, file_path, names):\n",
    "        if not isinstance(names, list):\n",
    "            self.names = list(names)\n",
    "        else:\n",
    "            self.names = names\n",
    "        self.us_emails = set(['gmail', 'net', 'edu'])\n",
    "        \n",
    "        with open(file_path) as f:\n",
    "            self.emails = json.load(f)\n",
    "            \n",
    "    def fit(self, x, y=None):\n",
    "        return self\n",
    "    \n",
    "    def transform(self, x):\n",
    "        for c in self.names:\n",
    "            x[c+\"_bin\"] = x[c].map(self.emails)\n",
    "            x[c + '_suffix'] = x[c].map(lambda x: str(x).split('.')[-1]) \n",
    "            x[c + '_suffix'] = x[c + '_suffix'].map(lambda x: x if str(x) not in us_emails else 'us')\n",
    "            \n",
    "        x['is_proton_mail'] = ((x['P_emaildomain'] == 'protonmail.com') | \\\n",
    "                                    (x['R_emaildomain']  == 'protonmail.com')).astype(np.int8)\n",
    "            \n",
    "        return x\n",
    "    \n",
    "    \n",
    "class Browser_Engineering(BaseEstimator, TransformerMixin):\n",
    "    \"\"\"\n",
    "    对浏览器进行了处理\n",
    "    \n",
    "    credit to ``https://www.kaggle.com/amirhmi/a-comprehensive-guide-to-get-0-9492``\n",
    "    \"\"\"\n",
    "    def __init__(self, file_path, name, verbose=1):\n",
    "        self.name = name\n",
    "        self.verbose = verbose\n",
    "        \n",
    "        with open(file_path) as f:\n",
    "            self.latest_browser = set(map(str.strip, f.readlines()))\n",
    "                    \n",
    "    def fit(self, x, y=None):\n",
    "        return self\n",
    "    \n",
    "    def transform(self, x):\n",
    "        nan_mask = x[self.name].isnull()\n",
    "        x['is_latest_browser'] = x[self.name].fillna(\"NaN\")\n",
    "        x['is_latest_browser'] = x['is_latest_browser'].map(lambda y: 1 if y in self.latest_browser else 0)\n",
    "        x['is_latest_browser'] = x['is_latest_browser'].astype(np.int8)\n",
    "        x.loc[nan_mask, 'is_latest_browser'] = np.nan\n",
    "        if self.verbose:\n",
    "            print(f\"Summarize: # of 1 = {x['is_latest_browser'].sum()}, # of NaN = {x['is_latest_browser'].isnull().sum()}\")\n",
    "        return x\n",
    "    \n",
    "class Std_2var_Engineering(BaseEstimator, TransformerMixin):\n",
    "    \"\"\"\n",
    "    双变量交互（std）\n",
    "    \n",
    "    credit to ``https://www.kaggle.com/amirhmi/a-comprehensive-guide-to-get-0-9492``\n",
    "    \"\"\"\n",
    "    def __init__(self, numerical_features, categorical_features, verbose=1):\n",
    "        self.n_feas = list(numerical_features)\n",
    "        self.c_feas = list(categorical_features)\n",
    "        self.verbose = verbose\n",
    "                    \n",
    "    def fit(self, x, y=None):\n",
    "        return self\n",
    "    \n",
    "    def transform(self, x):\n",
    "        for a, b in product(self.n_feas, self.c_feas):\n",
    "            nan_mask = x[a].isnull() | x[b].isnull()\n",
    "            name = a+\"_to_std_\"+b\n",
    "            x[name] = x[a] / x.groupby([b])[a].transform('std')\n",
    "            x.loc[nan_mask, name] = np.nan\n",
    "            if self.verbose:\n",
    "                print(f\"Generate: {name}\")\n",
    "        return x\n",
    "    \n",
    "class Mean_2var_Engineering(BaseEstimator, TransformerMixin):\n",
    "    \"\"\"\n",
    "    双变量交互（mean）\n",
    "    credit to ``https://www.kaggle.com/amirhmi/a-comprehensive-guide-to-get-0-9492``\n",
    "    \"\"\"\n",
    "    def __init__(self, numerical_features, categorical_features, verbose=1):\n",
    "        self.n_feas = list(numerical_features)\n",
    "        self.c_feas = list(categorical_features)\n",
    "        self.verbose = verbose\n",
    "                    \n",
    "    def fit(self, x, y=None):\n",
    "        return self\n",
    "    \n",
    "    def transform(self, x): \n",
    "        for a, b in product(self.n_feas, self.c_feas):\n",
    "            nan_mask = x[a].isnull() | x[b].isnull()\n",
    "            name = a+\"_to_mean_\"+b\n",
    "            x[name] = x[a] / x.groupby([b])[a].transform('mean')\n",
    "            x.loc[nan_mask, name] = np.nan\n",
    "            if self.verbose:\n",
    "                print(f\"Generate: {name}\")\n",
    "        return x\n",
    "    \n",
    "class Add_2var_Engineering(BaseEstimator, TransformerMixin):\n",
    "    \"\"\"\n",
    "    双分类变量交互\n",
    "    credit to ``https://www.kaggle.com/amirhmi/a-comprehensive-guide-to-get-0-9492``\n",
    "    \"\"\"\n",
    "    def __init__(self, feature_pairs, verbose=1):\n",
    "        self.pairs = list(feature_pairs)\n",
    "        self.verbose = verbose\n",
    "                    \n",
    "    def fit(self, x, y=None):\n",
    "        return self\n",
    "    \n",
    "    def transform(self, x): \n",
    "        for feas in self.pairs:\n",
    "            name= None\n",
    "            if len(feas) == 2:\n",
    "                a, b = feas\n",
    "                nan_mask = x[a].isnull() | x[b].isnull()\n",
    "                name = a+\"_\"+b\n",
    "                x[name] = x[a].astype(str) + \"_\" + x[b].astype(str)\n",
    "            elif len(feas) == 3:\n",
    "                a, b, c = feas\n",
    "                nan_mask = x[a].isnull() | x[b].isnull() | x[c].isnull()\n",
    "                name = a+\"_\"+b+\"_\"+c\n",
    "                x[name] = x[a].astype(str) + \"_\" + x[b].astype(str) + \"_\" + x[c].astype(str)\n",
    "                \n",
    "            x.loc[nan_mask, name] = np.nan\n",
    "            if self.verbose:\n",
    "                print(f\"Generate: {name}\")\n",
    "        return x\n",
    "    \n",
    "class Count_Engineering(BaseEstimator, TransformerMixin):\n",
    "    \"\"\"\n",
    "    添加分类变量的频率信息\n",
    "    credit to ``https://www.kaggle.com/cdeotte/200-magical-models-santander-0-920``\n",
    "    \"\"\"\n",
    "    def __init__(self, categorical_features, verbose=1):\n",
    "        self.names = list(categorical_features)\n",
    "        self.verbose = verbose\n",
    "        self.counts = dict()\n",
    "                    \n",
    "    def fit(self, x, y=None):\n",
    "        for c in self.names:\n",
    "            self.counts[c] = x[c].value_counts(dropna=False)\n",
    "        return self\n",
    "    \n",
    "    def transform(self, x): \n",
    "        for c in self.names:\n",
    "            name= c+\"_count\"\n",
    "            nan_mask = x[c].isnull()\n",
    "            if not (c in self.counts):\n",
    "                self.counts[c] = x[c].value_counts(dropna=False)\n",
    "                \n",
    "            if name in x.columns:\n",
    "                name += \"X\"\n",
    "            x[name] = x[c].map(self.counts[c])\n",
    "            x.loc[nan_mask, name] = np.nan\n",
    "            if self.verbose:\n",
    "                print(f\"Generate: {name}\")\n",
    "        return x\n",
    "    \n",
    "class Drop_Features(BaseEstimator, TransformerMixin):\n",
    "    \"\"\"\n",
    "    删除一些的特征\n",
    "    \n",
    "    credit to ``https://www.kaggle.com/amirhmi/a-comprehensive-guide-to-get-0-9492``\n",
    "    \"\"\"\n",
    "    def __init__(self, percentage, percentage_dup, verbose=1):\n",
    "        self.perc = percentage\n",
    "        self.perc_dup = percentage_dup\n",
    "        self.verbose = verbose\n",
    "                    \n",
    "    def fit(self, x, y=None):\n",
    "        missing_values = x.isnull().sum() / len(x)\n",
    "        missing_drop_cols = list(missing_values[missing_values > self.perc].keys())\n",
    "        if \"isFraud\" in missing_drop_cols:\n",
    "            missing_drop_cols.remove(\"isFraud\")\n",
    "        self.dropped_cols = missing_drop_cols            \n",
    "        duplicate_drop_cols = [col for col in x.columns if x[col].value_counts(dropna=False, normalize=True).values[0] > self.perc_dup]\n",
    "        if \"isFraud\" in duplicate_drop_cols:\n",
    "            duplicate_drop_cols.remove(\"isFraud\")\n",
    "        self.dropped_cols.extend(duplicate_drop_cols)\n",
    "        if self.verbose:\n",
    "            print(f\"Summarize: {len(missing_drop_cols)} columns have missing value(%) > {self.perc}\")\n",
    "            print(f\"Summarize: {len(duplicate_drop_cols)} columns have duplicate value(%) > {self.perc_dup}\")\n",
    "        \n",
    "        return self\n",
    "    \n",
    "    def transform(self, x):\n",
    "        return x.drop(self.dropped_cols, axis=1)"
   ]
  },
  {
   "cell_type": "code",
   "execution_count": 176,
   "metadata": {},
   "outputs": [],
   "source": [
    "E1 = Email_Engineering(f\"{DIR}/email.json\", ['P_emaildomain', 'R_emaildomain'])\n",
    "train = E1.transform(train)\n",
    "test = E1.transform(test)"
   ]
  },
  {
   "cell_type": "code",
   "execution_count": 177,
   "metadata": {},
   "outputs": [
    {
     "name": "stdout",
     "output_type": "stream",
     "text": [
      "Summarize: # of 1 = 36598.0, # of NaN = 450258\n",
      "Summarize: # of 1 = 20568.0, # of NaN = 370066\n"
     ]
    }
   ],
   "source": [
    "B1 = Browser_Engineering(f\"{DIR}/latest_browsers.txt\", \"id_31\", verbose=1)\n",
    "train = B1.transform(train)\n",
    "test = B1.transform(test)"
   ]
  },
  {
   "cell_type": "code",
   "execution_count": 178,
   "metadata": {},
   "outputs": [
    {
     "name": "stdout",
     "output_type": "stream",
     "text": [
      "Summarize: 145 columns have missing value(%) > 0.8\n",
      "Summarize: 71 columns have duplicate value(%) > 0.9\n"
     ]
    }
   ],
   "source": [
    "D1 = Drop_Features(percentage=0.8, percentage_dup=0.9,verbose=1)\n",
    "D1.fit(dataset)\n",
    "train = D1.transform(train)\n",
    "test = D1.transform(test)"
   ]
  },
  {
   "cell_type": "code",
   "execution_count": 179,
   "metadata": {},
   "outputs": [
    {
     "name": "stdout",
     "output_type": "stream",
     "text": [
      "Generate: TransactionAmt_to_mean_card1\n",
      "Generate: TransactionAmt_to_mean_card4\n",
      "Generate: TransactionAmt_to_mean_addr1\n",
      "Generate: id_02_to_mean_card1\n",
      "Generate: id_02_to_mean_card4\n",
      "Generate: id_02_to_mean_addr1\n",
      "Generate: D15_to_mean_card1\n",
      "Generate: D15_to_mean_card4\n",
      "Generate: D15_to_mean_addr1\n",
      "Generate: TransactionAmt_to_mean_card1\n",
      "Generate: TransactionAmt_to_mean_card4\n",
      "Generate: TransactionAmt_to_mean_addr1\n",
      "Generate: id_02_to_mean_card1\n",
      "Generate: id_02_to_mean_card4\n",
      "Generate: id_02_to_mean_addr1\n",
      "Generate: D15_to_mean_card1\n",
      "Generate: D15_to_mean_card4\n",
      "Generate: D15_to_mean_addr1\n"
     ]
    }
   ],
   "source": [
    "M1 = Mean_2var_Engineering(numerical_features=[\"TransactionAmt\", \"id_02\", \"D15\"],\n",
    "                          categorical_features=['card1', 'card4', 'addr1'])\n",
    "train = M1.transform(train)\n",
    "test = M1.transform(test)"
   ]
  },
  {
   "cell_type": "code",
   "execution_count": 180,
   "metadata": {},
   "outputs": [
    {
     "name": "stdout",
     "output_type": "stream",
     "text": [
      "Generate: card1_card4\n",
      "Generate: card1_card4\n"
     ]
    }
   ],
   "source": [
    "A1 = Add_2var_Engineering(feature_pairs=[('card1', 'card4')])\n",
    "train = A1.transform(train)\n",
    "test = A1.transform(test)"
   ]
  },
  {
   "cell_type": "code",
   "execution_count": 181,
   "metadata": {},
   "outputs": [
    {
     "name": "stdout",
     "output_type": "stream",
     "text": [
      "Generate: card1_card4_card3_card5\n",
      "Generate: card1_card4_card3_card5\n",
      "Generate: card1_card4_card3_card5_addr1_addr2\n",
      "Generate: card1_card4_card3_card5_addr1_addr2\n"
     ]
    }
   ],
   "source": [
    "A2 = Add_2var_Engineering(feature_pairs=[('card1_card4', 'card3', 'card5')])\n",
    "train = A2.transform(train)\n",
    "test = A2.transform(test)\n",
    "A3 = Add_2var_Engineering(feature_pairs=[('card1_card4_card3_card5', 'addr1', 'addr2')])\n",
    "train = A3.transform(train)\n",
    "test = A3.transform(test)"
   ]
  },
  {
   "cell_type": "code",
   "execution_count": 182,
   "metadata": {},
   "outputs": [],
   "source": [
    "# 未来数据？？？\n",
    "train['TransactionAmt_check'] = np.where(train['TransactionAmt'].isin(test['TransactionAmt']), 1, 0)\n",
    "test['TransactionAmt_check']  = np.where(test['TransactionAmt'].isin(train['TransactionAmt']), 1, 0)"
   ]
  },
  {
   "cell_type": "code",
   "execution_count": 183,
   "metadata": {},
   "outputs": [],
   "source": [
    "train['TransactionAmt'] = np.log1p(train['TransactionAmt'])\n",
    "test['TransactionAmt'] = np.log1p(test['TransactionAmt'])  "
   ]
  },
  {
   "cell_type": "code",
   "execution_count": 184,
   "metadata": {},
   "outputs": [
    {
     "name": "stdout",
     "output_type": "stream",
     "text": [
      "Generate: id_36_count\n",
      "Generate: id_36_count\n",
      "Generate: id_01_count\n",
      "Generate: id_31_count\n",
      "Generate: id_35_count\n",
      "Generate: id_36_countX\n",
      "Generate: id_01_count\n",
      "Generate: id_31_count\n",
      "Generate: id_35_count\n",
      "Generate: id_36_countX\n"
     ]
    }
   ],
   "source": [
    "C1 = Count_Engineering(categorical_features=['id_36'])\n",
    "C2 = Count_Engineering(categorical_features=['id_01', 'id_31', 'id_35', 'id_36'])\n",
    "C1.fit(dataset)\n",
    "train = C1.transform(train)\n",
    "test = C1.transform(test)\n",
    "train = C2.transform(train)\n",
    "test = C2.transform(test)"
   ]
  },
  {
   "cell_type": "code",
   "execution_count": 185,
   "metadata": {},
   "outputs": [],
   "source": [
    "#看不懂的操作\n",
    "for col in ['card1']: \n",
    "    valid_card = pd.concat([train[[col]], test[[col]]])\n",
    "    valid_card = valid_card[col].value_counts()\n",
    "    valid_card = valid_card[valid_card > 2]\n",
    "    valid_card = list(valid_card.index)\n",
    "\n",
    "    train[col] = np.where(train[col].isin(test[col]), train[col], np.nan)\n",
    "    test[col]  = np.where(test[col].isin(train[col]), test[col], np.nan)\n",
    "\n",
    "    train[col] = np.where(train[col].isin(valid_card), train[col], np.nan)\n",
    "    test[col]  = np.where(test[col].isin(valid_card), test[col], np.nan)"
   ]
  },
  {
   "cell_type": "code",
   "execution_count": 186,
   "metadata": {},
   "outputs": [],
   "source": [
    "numerical_columns = list(test.select_dtypes(exclude=['object']).columns)\n",
    "\n",
    "train[numerical_columns] = train[numerical_columns].fillna(train[numerical_columns].median())\n",
    "test[numerical_columns] = test[numerical_columns].fillna(train[numerical_columns].median())\n"
   ]
  },
  {
   "cell_type": "code",
   "execution_count": 187,
   "metadata": {},
   "outputs": [],
   "source": [
    "# 众数填充\n",
    "categorical_columns = list(filter(lambda x: x not in numerical_columns, list(test.columns)))\n",
    "train[categorical_columns] = train[categorical_columns].fillna(train[categorical_columns].mode())\n",
    "test[categorical_columns] = test[categorical_columns].fillna(train[categorical_columns].mode())"
   ]
  },
  {
   "cell_type": "code",
   "execution_count": 188,
   "metadata": {},
   "outputs": [],
   "source": [
    "from sklearn.preprocessing import LabelEncoder\n",
    "\n",
    "# 很有问题啊，这个假设的是有序分类变量，才能这样\n",
    "for col in categorical_columns:\n",
    "    le = LabelEncoder()\n",
    "    le.fit(list(train[col].astype(str).values) + list(test[col].astype(str).values))\n",
    "    train[col] = le.transform(list(train[col].astype(str).values))\n",
    "    test[col] = le.transform(list(test[col].astype(str).values))"
   ]
  },
  {
   "cell_type": "markdown",
   "metadata": {},
   "source": [
    "# 2. 训练模型"
   ]
  },
  {
   "cell_type": "code",
   "execution_count": 189,
   "metadata": {},
   "outputs": [
    {
     "data": {
      "text/plain": [
       "275"
      ]
     },
     "execution_count": 189,
     "metadata": {},
     "output_type": "execute_result"
    }
   ],
   "source": [
    "labels = train[\"isFraud\"]\n",
    "train.drop([\"isFraud\"], axis=1, inplace=True)\n",
    "\n",
    "X_train, y_train = train, labels\n",
    "del train, labels\n",
    "gc.collect()"
   ]
  },
  {
   "cell_type": "code",
   "execution_count": 190,
   "metadata": {},
   "outputs": [],
   "source": [
    "lgb_submission=sample_submission.copy()\n",
    "lgb_submission['isFraud'] = 0\n",
    "n_fold = 5\n",
    "folds = KFold(n_fold)"
   ]
  },
  {
   "cell_type": "code",
   "execution_count": null,
   "metadata": {},
   "outputs": [
    {
     "name": "stdout",
     "output_type": "stream",
     "text": [
      "0\n"
     ]
    }
   ],
   "source": [
    "for fold_n, (train_index, valid_index) in enumerate(folds.split(X_train)):\n",
    "    print(fold_n)\n",
    "    \n",
    "    X_train_, X_valid = X_train.iloc[train_index], X_train.iloc[valid_index]\n",
    "    y_train_, y_valid = y_train.iloc[train_index], y_train.iloc[valid_index]\n",
    "    dtrain = lgb.Dataset(X_train, label=y_train)\n",
    "    dvalid = lgb.Dataset(X_valid, label=y_valid)\n",
    "    \n",
    "    lgbclf = lgb.LGBMClassifier(\n",
    "            num_leaves= 512,\n",
    "            n_estimators=512,\n",
    "            max_depth=9,\n",
    "            learning_rate=0.064,\n",
    "            subsample=0.85,\n",
    "            colsample_bytree=0.85,\n",
    "            boosting_type= \"gbdt\",\n",
    "            reg_alpha=0.3,\n",
    "            reg_lamdba=0.243\n",
    "    )\n",
    "    \n",
    "    X_train_, X_valid = X_train.iloc[train_index], X_train.iloc[valid_index]\n",
    "    y_train_, y_valid = y_train.iloc[train_index], y_train.iloc[valid_index]\n",
    "    lgbclf.fit(X_train_,y_train_)\n",
    "    \n",
    "    del X_train_,y_train_\n",
    "    \n",
    "    print('finish train')\n",
    "    pred=lgbclf.predict_proba(test)[:,1]\n",
    "    val=lgbclf.predict_proba(X_valid)[:,1]\n",
    "    print('finish pred')\n",
    "    del lgbclf, X_valid\n",
    "    print('ROC accuracy: {}'.format(roc_auc_score(y_valid, val)))\n",
    "    del val,y_valid\n",
    "    lgb_submission['isFraud'] = lgb_submission['isFraud']+ pred/n_fold\n",
    "    del pred\n",
    "    gc.collect()"
   ]
  },
  {
   "cell_type": "code",
   "execution_count": null,
   "metadata": {},
   "outputs": [],
   "source": [
    "lgb_submission.insert(0, \"TransactionID\", np.arange(3663549, 3663549 + 506691))\n",
    "lgb_submission.to_csv('prediction.csv', index=False)"
   ]
  }
 ],
 "metadata": {
  "kernelspec": {
   "display_name": "Python 3",
   "language": "python",
   "name": "python3"
  },
  "language_info": {
   "codemirror_mode": {
    "name": "ipython",
    "version": 3
   },
   "file_extension": ".py",
   "mimetype": "text/x-python",
   "name": "python",
   "nbconvert_exporter": "python",
   "pygments_lexer": "ipython3",
   "version": "3.7.2"
  }
 },
 "nbformat": 4,
 "nbformat_minor": 2
}
